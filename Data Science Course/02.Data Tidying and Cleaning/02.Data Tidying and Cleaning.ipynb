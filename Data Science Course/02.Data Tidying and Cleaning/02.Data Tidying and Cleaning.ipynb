{
 "cells": [
  {
   "cell_type": "code",
   "execution_count": 1,
   "id": "1d30b7c8-aaac-4b5d-957f-88bc9fff005d",
   "metadata": {},
   "outputs": [],
   "source": [
    "%matplotlib inline"
   ]
  },
  {
   "cell_type": "code",
   "execution_count": 2,
   "id": "8fb0fb00-6a57-4213-a0c4-3ed11ecfea9e",
   "metadata": {},
   "outputs": [],
   "source": [
    "import numpy as np\n",
    "import pandas as pd\n",
    "import matplotlib.pyplot as plt"
   ]
  },
  {
   "cell_type": "markdown",
   "id": "356118f6-933d-4619-9fba-6f169e39b49b",
   "metadata": {},
   "source": [
    "# Data Tidying and Cleaning Demos\n",
    "## Live Demos"
   ]
  },
  {
   "cell_type": "code",
   "execution_count": 6,
   "id": "5bea51c1-4c0b-4b38-9757-ec0f44f04196",
   "metadata": {},
   "outputs": [
    {
     "data": {
      "text/plain": [
       "0     1\n",
       "1     2\n",
       "2    30\n",
       "dtype: int64"
      ]
     },
     "execution_count": 6,
     "metadata": {},
     "output_type": "execute_result"
    }
   ],
   "source": [
    "pd.Series([1, 2, 30])"
   ]
  },
  {
   "cell_type": "code",
   "execution_count": 7,
   "id": "b3941ea7-ec5e-4e04-9116-292bac401537",
   "metadata": {},
   "outputs": [
    {
     "data": {
      "text/plain": [
       "0     1.0\n",
       "1     2.0\n",
       "2    30.5\n",
       "dtype: float64"
      ]
     },
     "execution_count": 7,
     "metadata": {},
     "output_type": "execute_result"
    }
   ],
   "source": [
    "pd.Series([1, 2, 30.5])"
   ]
  },
  {
   "cell_type": "code",
   "execution_count": 8,
   "id": "08b5ac97-d203-4088-a89e-54580ec58e18",
   "metadata": {},
   "outputs": [
    {
     "data": {
      "text/plain": [
       "0         1\n",
       "1         2\n",
       "2        30\n",
       "3    number\n",
       "dtype: object"
      ]
     },
     "execution_count": 8,
     "metadata": {},
     "output_type": "execute_result"
    }
   ],
   "source": [
    "pd.Series([1, 2, 30, \"number\"])"
   ]
  },
  {
   "cell_type": "code",
   "execution_count": 9,
   "id": "bba9da3b-15da-4121-9ce3-fea4ccfcd759",
   "metadata": {},
   "outputs": [],
   "source": [
    "a = pd.Series([1, 2, 30, \"50.2\"])\n",
    "b = pd.Series(range(3))"
   ]
  },
  {
   "cell_type": "code",
   "execution_count": 10,
   "id": "5cdd9341-b1fa-4320-8a2c-ed888f2687e6",
   "metadata": {},
   "outputs": [
    {
     "data": {
      "text/plain": [
       "0     1.0\n",
       "1     3.0\n",
       "2    32.0\n",
       "3     NaN\n",
       "dtype: object"
      ]
     },
     "execution_count": 10,
     "metadata": {},
     "output_type": "execute_result"
    }
   ],
   "source": [
    "a + b"
   ]
  },
  {
   "cell_type": "code",
   "execution_count": null,
   "id": "5aa06c0d-862b-4563-9a72-edb9be8b7a2f",
   "metadata": {},
   "outputs": [],
   "source": [
    "a = pd.Series([1, 2, 30, \"50.2\"]).astype(str)\n",
    "b = pd.Series(range(3)) //error"
   ]
  },
  {
   "cell_type": "code",
   "execution_count": 11,
   "id": "380b78f4-93f6-4588-b3b7-0886ba7af00e",
   "metadata": {},
   "outputs": [],
   "source": [
    "a = pd.Series([1, 2, 30, \"50.2\"]).astype(str)\n",
    "b = pd.Series(range(3)).astype(str)"
   ]
  },
  {
   "cell_type": "code",
   "execution_count": 12,
   "id": "5a837a94-7530-4ae1-a320-5795f6b1e303",
   "metadata": {},
   "outputs": [
    {
     "data": {
      "text/plain": [
       "0     10\n",
       "1     21\n",
       "2    302\n",
       "3    NaN\n",
       "dtype: object"
      ]
     },
     "execution_count": 12,
     "metadata": {},
     "output_type": "execute_result"
    }
   ],
   "source": [
    "a+b"
   ]
  },
  {
   "cell_type": "code",
   "execution_count": null,
   "id": "4b6f5536-f73a-4efb-b94b-d6abecc79a99",
   "metadata": {},
   "outputs": [],
   "source": []
  }
 ],
 "metadata": {
  "kernelspec": {
   "display_name": "Python [conda env:base] *",
   "language": "python",
   "name": "conda-base-py"
  },
  "language_info": {
   "codemirror_mode": {
    "name": "ipython",
    "version": 3
   },
   "file_extension": ".py",
   "mimetype": "text/x-python",
   "name": "python",
   "nbconvert_exporter": "python",
   "pygments_lexer": "ipython3",
   "version": "3.13.5"
  }
 },
 "nbformat": 4,
 "nbformat_minor": 5
}
