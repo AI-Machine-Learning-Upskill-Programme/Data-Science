{
 "cells": [
  {
   "cell_type": "code",
   "execution_count": 1,
   "id": "e753c490-8815-4bad-b9a1-1cc3f70313ac",
   "metadata": {},
   "outputs": [],
   "source": [
    "%matplotlib inline"
   ]
  },
  {
   "cell_type": "code",
   "execution_count": 2,
   "id": "aca0f11a-4539-462c-be00-7dd8b3835872",
   "metadata": {},
   "outputs": [],
   "source": [
    "import numpy as np\n",
    "import pandas as pd\n",
    "import matplotlib.pyplot as plt"
   ]
  },
  {
   "cell_type": "code",
   "execution_count": 3,
   "id": "ac855d02-d7cc-4489-8fb4-0ee2dd3df399",
   "metadata": {},
   "outputs": [],
   "source": [
    "books_data = pd.read_csv(\"data/books-dataset/Books.csv\")"
   ]
  },
  {
   "cell_type": "code",
   "execution_count": 4,
   "id": "45f0adee-2d73-4786-bd6a-8944c3781caf",
   "metadata": {},
   "outputs": [],
   "source": [
    "books_data.pages = books_data.pages.replace(\"Unknown\", np.nan)\n",
    "books_data.pages = books_data.pages.astype(float)"
   ]
  },
  {
   "cell_type": "code",
   "execution_count": 5,
   "id": "8f235995-87dc-457f-844e-ee4287fe69e3",
   "metadata": {},
   "outputs": [
    {
     "data": {
      "text/plain": [
       "title              object\n",
       "author             object\n",
       "pages             float64\n",
       "genre              object\n",
       "description        object\n",
       "published_date     object\n",
       "publisher          object\n",
       "language           object\n",
       "average_rating     object\n",
       "ratings_count       int64\n",
       "thumbnail          object\n",
       "dtype: object"
      ]
     },
     "execution_count": 5,
     "metadata": {},
     "output_type": "execute_result"
    }
   ],
   "source": [
    "books_data.dtypes"
   ]
  },
  {
   "cell_type": "code",
   "execution_count": 6,
   "id": "a99e3681-b58f-4bfa-86b9-c52f984375a2",
   "metadata": {},
   "outputs": [
    {
     "data": {
      "text/html": [
       "<div>\n",
       "<style scoped>\n",
       "    .dataframe tbody tr th:only-of-type {\n",
       "        vertical-align: middle;\n",
       "    }\n",
       "\n",
       "    .dataframe tbody tr th {\n",
       "        vertical-align: top;\n",
       "    }\n",
       "\n",
       "    .dataframe thead th {\n",
       "        text-align: right;\n",
       "    }\n",
       "</style>\n",
       "<table border=\"1\" class=\"dataframe\">\n",
       "  <thead>\n",
       "    <tr style=\"text-align: right;\">\n",
       "      <th></th>\n",
       "      <th>title</th>\n",
       "      <th>author</th>\n",
       "      <th>pages</th>\n",
       "      <th>genre</th>\n",
       "      <th>description</th>\n",
       "      <th>published_date</th>\n",
       "      <th>publisher</th>\n",
       "      <th>language</th>\n",
       "      <th>average_rating</th>\n",
       "      <th>ratings_count</th>\n",
       "      <th>thumbnail</th>\n",
       "    </tr>\n",
       "  </thead>\n",
       "  <tbody>\n",
       "    <tr>\n",
       "      <th>0</th>\n",
       "      <td>Fictional Points of View</td>\n",
       "      <td>Peter Lamarque</td>\n",
       "      <td>252.0</td>\n",
       "      <td>Literary Criticism</td>\n",
       "      <td>The volume focuses on a wide range of thinkers...</td>\n",
       "      <td>1996</td>\n",
       "      <td>Cornell University Press</td>\n",
       "      <td>en</td>\n",
       "      <td>No rating</td>\n",
       "      <td>0</td>\n",
       "      <td>http://books.google.com/books/content?id=rh-om...</td>\n",
       "    </tr>\n",
       "    <tr>\n",
       "      <th>1</th>\n",
       "      <td>Science Fiction and Fantasy Literature</td>\n",
       "      <td>R. Reginald, Douglas Menville, Mary A. Burgess</td>\n",
       "      <td>802.0</td>\n",
       "      <td>Reference</td>\n",
       "      <td>Science Fiction and Fantasy Literature, A Chec...</td>\n",
       "      <td>2010-09-01</td>\n",
       "      <td>Wildside Press LLC</td>\n",
       "      <td>en</td>\n",
       "      <td>No rating</td>\n",
       "      <td>0</td>\n",
       "      <td>http://books.google.com/books/content?id=P8zW2...</td>\n",
       "    </tr>\n",
       "    <tr>\n",
       "      <th>2</th>\n",
       "      <td>Library of Congress Subject Headings</td>\n",
       "      <td>Library of Congress. Cataloging Policy and Sup...</td>\n",
       "      <td>1662.0</td>\n",
       "      <td>Subject headings, Library of Congress</td>\n",
       "      <td>No description available</td>\n",
       "      <td>2004</td>\n",
       "      <td>Unknown Publisher</td>\n",
       "      <td>en</td>\n",
       "      <td>No rating</td>\n",
       "      <td>0</td>\n",
       "      <td>http://books.google.com/books/content?id=pEhkh...</td>\n",
       "    </tr>\n",
       "    <tr>\n",
       "      <th>3</th>\n",
       "      <td>Library of Congress Subject Headings</td>\n",
       "      <td>Library of Congress</td>\n",
       "      <td>1512.0</td>\n",
       "      <td>Subject headings, Library of Congress</td>\n",
       "      <td>No description available</td>\n",
       "      <td>2007</td>\n",
       "      <td>Unknown Publisher</td>\n",
       "      <td>en</td>\n",
       "      <td>No rating</td>\n",
       "      <td>0</td>\n",
       "      <td>http://books.google.com/books/content?id=FgAjF...</td>\n",
       "    </tr>\n",
       "    <tr>\n",
       "      <th>4</th>\n",
       "      <td>Fictional Space in the Modernist and Post-mode...</td>\n",
       "      <td>Carl Darryl Malmgren</td>\n",
       "      <td>248.0</td>\n",
       "      <td>Fiction</td>\n",
       "      <td>Fictional space is the imaginal expanse of fie...</td>\n",
       "      <td>1985</td>\n",
       "      <td>Bucknell University Press</td>\n",
       "      <td>en</td>\n",
       "      <td>No rating</td>\n",
       "      <td>0</td>\n",
       "      <td>http://books.google.com/books/content?id=KXzoz...</td>\n",
       "    </tr>\n",
       "    <tr>\n",
       "      <th>...</th>\n",
       "      <td>...</td>\n",
       "      <td>...</td>\n",
       "      <td>...</td>\n",
       "      <td>...</td>\n",
       "      <td>...</td>\n",
       "      <td>...</td>\n",
       "      <td>...</td>\n",
       "      <td>...</td>\n",
       "      <td>...</td>\n",
       "      <td>...</td>\n",
       "      <td>...</td>\n",
       "    </tr>\n",
       "    <tr>\n",
       "      <th>2044</th>\n",
       "      <td>The Index Card</td>\n",
       "      <td>Helaine Olen, Harold Pollack</td>\n",
       "      <td>256.0</td>\n",
       "      <td>Personal Finance</td>\n",
       "      <td>Simplifies personal finance to ten rules that ...</td>\n",
       "      <td>2016-01-05</td>\n",
       "      <td>Portfolio</td>\n",
       "      <td>en</td>\n",
       "      <td>4.0</td>\n",
       "      <td>30000</td>\n",
       "      <td>http://books.google.com/books/content?id=8z4_D...</td>\n",
       "    </tr>\n",
       "    <tr>\n",
       "      <th>2045</th>\n",
       "      <td>The Road to Wealth</td>\n",
       "      <td>Suze Orman</td>\n",
       "      <td>608.0</td>\n",
       "      <td>Personal Finance</td>\n",
       "      <td>A comprehensive guide to managing money, inves...</td>\n",
       "      <td>2001-04-01</td>\n",
       "      <td>Riverhead Books</td>\n",
       "      <td>en</td>\n",
       "      <td>4.1</td>\n",
       "      <td>50000</td>\n",
       "      <td>http://books.google.com/books/content?id=zv0oD...</td>\n",
       "    </tr>\n",
       "    <tr>\n",
       "      <th>2046</th>\n",
       "      <td>The Success Principles</td>\n",
       "      <td>Jack Canfield</td>\n",
       "      <td>512.0</td>\n",
       "      <td>Self-Help</td>\n",
       "      <td>A guide to achieving personal and financial su...</td>\n",
       "      <td>2004-12-28</td>\n",
       "      <td>HarperCollins</td>\n",
       "      <td>en</td>\n",
       "      <td>4.2</td>\n",
       "      <td>100000</td>\n",
       "      <td>http://books.google.com/books/content?id=7zL_D...</td>\n",
       "    </tr>\n",
       "    <tr>\n",
       "      <th>2047</th>\n",
       "      <td>The Courage to Be Rich</td>\n",
       "      <td>Suze Orman</td>\n",
       "      <td>448.0</td>\n",
       "      <td>Personal Finance</td>\n",
       "      <td>Combines emotional and practical advice for bu...</td>\n",
       "      <td>1999-03-01</td>\n",
       "      <td>Riverhead Books</td>\n",
       "      <td>en</td>\n",
       "      <td>4.0</td>\n",
       "      <td>40000</td>\n",
       "      <td>http://books.google.com/books/content?id=2c3_D...</td>\n",
       "    </tr>\n",
       "    <tr>\n",
       "      <th>2048</th>\n",
       "      <td>The Money Manual</td>\n",
       "      <td>Tonya Rapley</td>\n",
       "      <td>256.0</td>\n",
       "      <td>Personal Finance</td>\n",
       "      <td>A millennial-focused guide to budgeting, savin...</td>\n",
       "      <td>2023-05-16</td>\n",
       "      <td>Adams Media</td>\n",
       "      <td>en</td>\n",
       "      <td>4.2</td>\n",
       "      <td>20000</td>\n",
       "      <td>http://books.google.com/books/content?id=3z3_D...</td>\n",
       "    </tr>\n",
       "  </tbody>\n",
       "</table>\n",
       "<p>2049 rows × 11 columns</p>\n",
       "</div>"
      ],
      "text/plain": [
       "                                                  title  \\\n",
       "0                              Fictional Points of View   \n",
       "1                Science Fiction and Fantasy Literature   \n",
       "2                  Library of Congress Subject Headings   \n",
       "3                  Library of Congress Subject Headings   \n",
       "4     Fictional Space in the Modernist and Post-mode...   \n",
       "...                                                 ...   \n",
       "2044                                     The Index Card   \n",
       "2045                                 The Road to Wealth   \n",
       "2046                             The Success Principles   \n",
       "2047                             The Courage to Be Rich   \n",
       "2048                                   The Money Manual   \n",
       "\n",
       "                                                 author   pages  \\\n",
       "0                                        Peter Lamarque   252.0   \n",
       "1        R. Reginald, Douglas Menville, Mary A. Burgess   802.0   \n",
       "2     Library of Congress. Cataloging Policy and Sup...  1662.0   \n",
       "3                                   Library of Congress  1512.0   \n",
       "4                                  Carl Darryl Malmgren   248.0   \n",
       "...                                                 ...     ...   \n",
       "2044                       Helaine Olen, Harold Pollack   256.0   \n",
       "2045                                         Suze Orman   608.0   \n",
       "2046                                      Jack Canfield   512.0   \n",
       "2047                                         Suze Orman   448.0   \n",
       "2048                                       Tonya Rapley   256.0   \n",
       "\n",
       "                                      genre  \\\n",
       "0                        Literary Criticism   \n",
       "1                                 Reference   \n",
       "2     Subject headings, Library of Congress   \n",
       "3     Subject headings, Library of Congress   \n",
       "4                                   Fiction   \n",
       "...                                     ...   \n",
       "2044                       Personal Finance   \n",
       "2045                       Personal Finance   \n",
       "2046                              Self-Help   \n",
       "2047                       Personal Finance   \n",
       "2048                       Personal Finance   \n",
       "\n",
       "                                            description published_date  \\\n",
       "0     The volume focuses on a wide range of thinkers...           1996   \n",
       "1     Science Fiction and Fantasy Literature, A Chec...     2010-09-01   \n",
       "2                              No description available           2004   \n",
       "3                              No description available           2007   \n",
       "4     Fictional space is the imaginal expanse of fie...           1985   \n",
       "...                                                 ...            ...   \n",
       "2044  Simplifies personal finance to ten rules that ...     2016-01-05   \n",
       "2045  A comprehensive guide to managing money, inves...     2001-04-01   \n",
       "2046  A guide to achieving personal and financial su...     2004-12-28   \n",
       "2047  Combines emotional and practical advice for bu...     1999-03-01   \n",
       "2048  A millennial-focused guide to budgeting, savin...     2023-05-16   \n",
       "\n",
       "                      publisher language average_rating  ratings_count  \\\n",
       "0      Cornell University Press       en      No rating              0   \n",
       "1            Wildside Press LLC       en      No rating              0   \n",
       "2             Unknown Publisher       en      No rating              0   \n",
       "3             Unknown Publisher       en      No rating              0   \n",
       "4     Bucknell University Press       en      No rating              0   \n",
       "...                         ...      ...            ...            ...   \n",
       "2044                  Portfolio       en            4.0          30000   \n",
       "2045            Riverhead Books       en            4.1          50000   \n",
       "2046              HarperCollins       en            4.2         100000   \n",
       "2047            Riverhead Books       en            4.0          40000   \n",
       "2048                Adams Media       en            4.2          20000   \n",
       "\n",
       "                                              thumbnail  \n",
       "0     http://books.google.com/books/content?id=rh-om...  \n",
       "1     http://books.google.com/books/content?id=P8zW2...  \n",
       "2     http://books.google.com/books/content?id=pEhkh...  \n",
       "3     http://books.google.com/books/content?id=FgAjF...  \n",
       "4     http://books.google.com/books/content?id=KXzoz...  \n",
       "...                                                 ...  \n",
       "2044  http://books.google.com/books/content?id=8z4_D...  \n",
       "2045  http://books.google.com/books/content?id=zv0oD...  \n",
       "2046  http://books.google.com/books/content?id=7zL_D...  \n",
       "2047  http://books.google.com/books/content?id=2c3_D...  \n",
       "2048  http://books.google.com/books/content?id=3z3_D...  \n",
       "\n",
       "[2049 rows x 11 columns]"
      ]
     },
     "execution_count": 6,
     "metadata": {},
     "output_type": "execute_result"
    }
   ],
   "source": [
    "books_data"
   ]
  },
  {
   "cell_type": "code",
   "execution_count": 7,
   "id": "caa53f71-8ada-4272-a51e-fd0ef680440d",
   "metadata": {},
   "outputs": [
    {
     "data": {
      "text/plain": [
       "array(['1996', '2010-09-01', '2004', ..., '2004-12-28', '1999-03-01',\n",
       "       '2023-05-16'], dtype=object)"
      ]
     },
     "execution_count": 7,
     "metadata": {},
     "output_type": "execute_result"
    }
   ],
   "source": [
    "books_data.published_date.unique()"
   ]
  },
  {
   "cell_type": "code",
   "execution_count": 8,
   "id": "ed559ac1-d4fc-479d-b0e7-c94809dc5c05",
   "metadata": {},
   "outputs": [
    {
     "data": {
      "text/plain": [
       "1215"
      ]
     },
     "execution_count": 8,
     "metadata": {},
     "output_type": "execute_result"
    }
   ],
   "source": [
    "books_data.published_date.nunique()"
   ]
  },
  {
   "cell_type": "code",
   "execution_count": 9,
   "id": "93d46b1f-ea7f-416a-a20b-9919f3ba7780",
   "metadata": {},
   "outputs": [
    {
     "data": {
      "text/plain": [
       "0        4\n",
       "1       10\n",
       "2        4\n",
       "3        4\n",
       "4        4\n",
       "        ..\n",
       "2044    10\n",
       "2045    10\n",
       "2046    10\n",
       "2047    10\n",
       "2048    10\n",
       "Name: published_date, Length: 2049, dtype: int64"
      ]
     },
     "execution_count": 9,
     "metadata": {},
     "output_type": "execute_result"
    }
   ],
   "source": [
    "books_data.published_date.str.len()"
   ]
  },
  {
   "cell_type": "code",
   "execution_count": 10,
   "id": "b2efef37-538f-4869-b587-b0ed0601ca12",
   "metadata": {},
   "outputs": [
    {
     "data": {
      "text/plain": [
       "published_date\n",
       "10    1142\n",
       "4      711\n",
       "7      194\n",
       "9        1\n",
       "25       1\n",
       "Name: count, dtype: int64"
      ]
     },
     "execution_count": 10,
     "metadata": {},
     "output_type": "execute_result"
    }
   ],
   "source": [
    "books_data.published_date.str.len().value_counts()"
   ]
  },
  {
   "cell_type": "code",
   "execution_count": 11,
   "id": "928d20bf-9407-42fe-aeb4-1701865620dd",
   "metadata": {},
   "outputs": [
    {
     "data": {
      "text/plain": [
       "10"
      ]
     },
     "execution_count": 11,
     "metadata": {},
     "output_type": "execute_result"
    }
   ],
   "source": [
    "len(\"2025-06-24\")"
   ]
  },
  {
   "cell_type": "code",
   "execution_count": 12,
   "id": "cb9d5efb-41e5-4746-9687-0901195dc474",
   "metadata": {},
   "outputs": [
    {
     "data": {
      "text/html": [
       "<div>\n",
       "<style scoped>\n",
       "    .dataframe tbody tr th:only-of-type {\n",
       "        vertical-align: middle;\n",
       "    }\n",
       "\n",
       "    .dataframe tbody tr th {\n",
       "        vertical-align: top;\n",
       "    }\n",
       "\n",
       "    .dataframe thead th {\n",
       "        text-align: right;\n",
       "    }\n",
       "</style>\n",
       "<table border=\"1\" class=\"dataframe\">\n",
       "  <thead>\n",
       "    <tr style=\"text-align: right;\">\n",
       "      <th></th>\n",
       "      <th>title</th>\n",
       "      <th>author</th>\n",
       "      <th>pages</th>\n",
       "      <th>genre</th>\n",
       "      <th>description</th>\n",
       "      <th>published_date</th>\n",
       "      <th>publisher</th>\n",
       "      <th>language</th>\n",
       "      <th>average_rating</th>\n",
       "      <th>ratings_count</th>\n",
       "      <th>thumbnail</th>\n",
       "    </tr>\n",
       "  </thead>\n",
       "  <tbody>\n",
       "    <tr>\n",
       "      <th>1820</th>\n",
       "      <td>L'amore bugiardo</td>\n",
       "      <td>Gillian Flynn</td>\n",
       "      <td>528.0</td>\n",
       "      <td>Fiction</td>\n",
       "      <td>DA QUESTO LIBRO IL FILM DIRETTO DA DAVID FINCH...</td>\n",
       "      <td>2012-12-13T00:00:00+01:00</td>\n",
       "      <td>Rizzoli First</td>\n",
       "      <td>it</td>\n",
       "      <td>No rating</td>\n",
       "      <td>0</td>\n",
       "      <td>http://books.google.com/books/content?id=8eTf5...</td>\n",
       "    </tr>\n",
       "  </tbody>\n",
       "</table>\n",
       "</div>"
      ],
      "text/plain": [
       "                 title         author  pages    genre  \\\n",
       "1820  L'amore bugiardo  Gillian Flynn  528.0  Fiction   \n",
       "\n",
       "                                            description  \\\n",
       "1820  DA QUESTO LIBRO IL FILM DIRETTO DA DAVID FINCH...   \n",
       "\n",
       "                 published_date      publisher language average_rating  \\\n",
       "1820  2012-12-13T00:00:00+01:00  Rizzoli First       it      No rating   \n",
       "\n",
       "      ratings_count                                          thumbnail  \n",
       "1820              0  http://books.google.com/books/content?id=8eTf5...  "
      ]
     },
     "execution_count": 12,
     "metadata": {},
     "output_type": "execute_result"
    }
   ],
   "source": [
    "books_data[\n",
    "    books_data.published_date.str.len() == 25\n",
    "]\n"
   ]
  },
  {
   "cell_type": "code",
   "execution_count": 14,
   "id": "06c4308d-b676-4bae-8423-00f2d0612649",
   "metadata": {},
   "outputs": [
    {
     "ename": "ValueError",
     "evalue": "unconverted data remains when parsing with format \"%Y\": \"-09-01\", at position 1. You might want to try:\n    - passing `format` if your strings have a consistent format;\n    - passing `format='ISO8601'` if your strings are all ISO8601 but not necessarily in exactly the same format;\n    - passing `format='mixed'`, and the format will be inferred for each element individually. You might want to use `dayfirst` alongside this.",
     "output_type": "error",
     "traceback": [
      "\u001b[1;31m---------------------------------------------------------------------------\u001b[0m",
      "\u001b[1;31mValueError\u001b[0m                                Traceback (most recent call last)",
      "Cell \u001b[1;32mIn[14], line 1\u001b[0m\n\u001b[1;32m----> 1\u001b[0m pd\u001b[38;5;241m.\u001b[39mto_datetime(books_data\u001b[38;5;241m.\u001b[39mpublished_date)\n",
      "File \u001b[1;32m~\\anaconda3\\Lib\\site-packages\\pandas\\core\\tools\\datetimes.py:1067\u001b[0m, in \u001b[0;36mto_datetime\u001b[1;34m(arg, errors, dayfirst, yearfirst, utc, format, exact, unit, infer_datetime_format, origin, cache)\u001b[0m\n\u001b[0;32m   1065\u001b[0m         result \u001b[38;5;241m=\u001b[39m arg\u001b[38;5;241m.\u001b[39mmap(cache_array)\n\u001b[0;32m   1066\u001b[0m     \u001b[38;5;28;01melse\u001b[39;00m:\n\u001b[1;32m-> 1067\u001b[0m         values \u001b[38;5;241m=\u001b[39m convert_listlike(arg\u001b[38;5;241m.\u001b[39m_values, \u001b[38;5;28mformat\u001b[39m)\n\u001b[0;32m   1068\u001b[0m         result \u001b[38;5;241m=\u001b[39m arg\u001b[38;5;241m.\u001b[39m_constructor(values, index\u001b[38;5;241m=\u001b[39marg\u001b[38;5;241m.\u001b[39mindex, name\u001b[38;5;241m=\u001b[39marg\u001b[38;5;241m.\u001b[39mname)\n\u001b[0;32m   1069\u001b[0m \u001b[38;5;28;01melif\u001b[39;00m \u001b[38;5;28misinstance\u001b[39m(arg, (ABCDataFrame, abc\u001b[38;5;241m.\u001b[39mMutableMapping)):\n",
      "File \u001b[1;32m~\\anaconda3\\Lib\\site-packages\\pandas\\core\\tools\\datetimes.py:433\u001b[0m, in \u001b[0;36m_convert_listlike_datetimes\u001b[1;34m(arg, format, name, utc, unit, errors, dayfirst, yearfirst, exact)\u001b[0m\n\u001b[0;32m    431\u001b[0m \u001b[38;5;66;03m# `format` could be inferred, or user didn't ask for mixed-format parsing.\u001b[39;00m\n\u001b[0;32m    432\u001b[0m \u001b[38;5;28;01mif\u001b[39;00m \u001b[38;5;28mformat\u001b[39m \u001b[38;5;129;01mis\u001b[39;00m \u001b[38;5;129;01mnot\u001b[39;00m \u001b[38;5;28;01mNone\u001b[39;00m \u001b[38;5;129;01mand\u001b[39;00m \u001b[38;5;28mformat\u001b[39m \u001b[38;5;241m!=\u001b[39m \u001b[38;5;124m\"\u001b[39m\u001b[38;5;124mmixed\u001b[39m\u001b[38;5;124m\"\u001b[39m:\n\u001b[1;32m--> 433\u001b[0m     \u001b[38;5;28;01mreturn\u001b[39;00m _array_strptime_with_fallback(arg, name, utc, \u001b[38;5;28mformat\u001b[39m, exact, errors)\n\u001b[0;32m    435\u001b[0m result, tz_parsed \u001b[38;5;241m=\u001b[39m objects_to_datetime64(\n\u001b[0;32m    436\u001b[0m     arg,\n\u001b[0;32m    437\u001b[0m     dayfirst\u001b[38;5;241m=\u001b[39mdayfirst,\n\u001b[1;32m   (...)\u001b[0m\n\u001b[0;32m    441\u001b[0m     allow_object\u001b[38;5;241m=\u001b[39m\u001b[38;5;28;01mTrue\u001b[39;00m,\n\u001b[0;32m    442\u001b[0m )\n\u001b[0;32m    444\u001b[0m \u001b[38;5;28;01mif\u001b[39;00m tz_parsed \u001b[38;5;129;01mis\u001b[39;00m \u001b[38;5;129;01mnot\u001b[39;00m \u001b[38;5;28;01mNone\u001b[39;00m:\n\u001b[0;32m    445\u001b[0m     \u001b[38;5;66;03m# We can take a shortcut since the datetime64 numpy array\u001b[39;00m\n\u001b[0;32m    446\u001b[0m     \u001b[38;5;66;03m# is in UTC\u001b[39;00m\n",
      "File \u001b[1;32m~\\anaconda3\\Lib\\site-packages\\pandas\\core\\tools\\datetimes.py:467\u001b[0m, in \u001b[0;36m_array_strptime_with_fallback\u001b[1;34m(arg, name, utc, fmt, exact, errors)\u001b[0m\n\u001b[0;32m    456\u001b[0m \u001b[38;5;28;01mdef\u001b[39;00m\u001b[38;5;250m \u001b[39m\u001b[38;5;21m_array_strptime_with_fallback\u001b[39m(\n\u001b[0;32m    457\u001b[0m     arg,\n\u001b[0;32m    458\u001b[0m     name,\n\u001b[1;32m   (...)\u001b[0m\n\u001b[0;32m    462\u001b[0m     errors: \u001b[38;5;28mstr\u001b[39m,\n\u001b[0;32m    463\u001b[0m ) \u001b[38;5;241m-\u001b[39m\u001b[38;5;241m>\u001b[39m Index:\n\u001b[0;32m    464\u001b[0m \u001b[38;5;250m    \u001b[39m\u001b[38;5;124;03m\"\"\"\u001b[39;00m\n\u001b[0;32m    465\u001b[0m \u001b[38;5;124;03m    Call array_strptime, with fallback behavior depending on 'errors'.\u001b[39;00m\n\u001b[0;32m    466\u001b[0m \u001b[38;5;124;03m    \"\"\"\u001b[39;00m\n\u001b[1;32m--> 467\u001b[0m     result, tz_out \u001b[38;5;241m=\u001b[39m array_strptime(arg, fmt, exact\u001b[38;5;241m=\u001b[39mexact, errors\u001b[38;5;241m=\u001b[39merrors, utc\u001b[38;5;241m=\u001b[39mutc)\n\u001b[0;32m    468\u001b[0m     \u001b[38;5;28;01mif\u001b[39;00m tz_out \u001b[38;5;129;01mis\u001b[39;00m \u001b[38;5;129;01mnot\u001b[39;00m \u001b[38;5;28;01mNone\u001b[39;00m:\n\u001b[0;32m    469\u001b[0m         unit \u001b[38;5;241m=\u001b[39m np\u001b[38;5;241m.\u001b[39mdatetime_data(result\u001b[38;5;241m.\u001b[39mdtype)[\u001b[38;5;241m0\u001b[39m]\n",
      "File \u001b[1;32mstrptime.pyx:501\u001b[0m, in \u001b[0;36mpandas._libs.tslibs.strptime.array_strptime\u001b[1;34m()\u001b[0m\n",
      "File \u001b[1;32mstrptime.pyx:451\u001b[0m, in \u001b[0;36mpandas._libs.tslibs.strptime.array_strptime\u001b[1;34m()\u001b[0m\n",
      "File \u001b[1;32mstrptime.pyx:587\u001b[0m, in \u001b[0;36mpandas._libs.tslibs.strptime._parse_with_format\u001b[1;34m()\u001b[0m\n",
      "\u001b[1;31mValueError\u001b[0m: unconverted data remains when parsing with format \"%Y\": \"-09-01\", at position 1. You might want to try:\n    - passing `format` if your strings have a consistent format;\n    - passing `format='ISO8601'` if your strings are all ISO8601 but not necessarily in exactly the same format;\n    - passing `format='mixed'`, and the format will be inferred for each element individually. You might want to use `dayfirst` alongside this."
     ]
    }
   ],
   "source": [
    "pd.to_datetime(books_data.published_date)"
   ]
  },
  {
   "cell_type": "code",
   "execution_count": 15,
   "id": "0f724e9e-eedd-4aee-9565-d80dba553130",
   "metadata": {},
   "outputs": [
    {
     "ename": "DateParseError",
     "evalue": "Unknown datetime string format, unable to parse: Unknown, at position 30",
     "output_type": "error",
     "traceback": [
      "\u001b[1;31m---------------------------------------------------------------------------\u001b[0m",
      "\u001b[1;31mDateParseError\u001b[0m                            Traceback (most recent call last)",
      "Cell \u001b[1;32mIn[15], line 1\u001b[0m\n\u001b[1;32m----> 1\u001b[0m pd\u001b[38;5;241m.\u001b[39mto_datetime(books_data\u001b[38;5;241m.\u001b[39mpublished_date, \u001b[38;5;28mformat\u001b[39m \u001b[38;5;241m=\u001b[39m \u001b[38;5;124m\"\u001b[39m\u001b[38;5;124mmixed\u001b[39m\u001b[38;5;124m\"\u001b[39m)\n",
      "File \u001b[1;32m~\\anaconda3\\Lib\\site-packages\\pandas\\core\\tools\\datetimes.py:1067\u001b[0m, in \u001b[0;36mto_datetime\u001b[1;34m(arg, errors, dayfirst, yearfirst, utc, format, exact, unit, infer_datetime_format, origin, cache)\u001b[0m\n\u001b[0;32m   1065\u001b[0m         result \u001b[38;5;241m=\u001b[39m arg\u001b[38;5;241m.\u001b[39mmap(cache_array)\n\u001b[0;32m   1066\u001b[0m     \u001b[38;5;28;01melse\u001b[39;00m:\n\u001b[1;32m-> 1067\u001b[0m         values \u001b[38;5;241m=\u001b[39m convert_listlike(arg\u001b[38;5;241m.\u001b[39m_values, \u001b[38;5;28mformat\u001b[39m)\n\u001b[0;32m   1068\u001b[0m         result \u001b[38;5;241m=\u001b[39m arg\u001b[38;5;241m.\u001b[39m_constructor(values, index\u001b[38;5;241m=\u001b[39marg\u001b[38;5;241m.\u001b[39mindex, name\u001b[38;5;241m=\u001b[39marg\u001b[38;5;241m.\u001b[39mname)\n\u001b[0;32m   1069\u001b[0m \u001b[38;5;28;01melif\u001b[39;00m \u001b[38;5;28misinstance\u001b[39m(arg, (ABCDataFrame, abc\u001b[38;5;241m.\u001b[39mMutableMapping)):\n",
      "File \u001b[1;32m~\\anaconda3\\Lib\\site-packages\\pandas\\core\\tools\\datetimes.py:435\u001b[0m, in \u001b[0;36m_convert_listlike_datetimes\u001b[1;34m(arg, format, name, utc, unit, errors, dayfirst, yearfirst, exact)\u001b[0m\n\u001b[0;32m    432\u001b[0m \u001b[38;5;28;01mif\u001b[39;00m \u001b[38;5;28mformat\u001b[39m \u001b[38;5;129;01mis\u001b[39;00m \u001b[38;5;129;01mnot\u001b[39;00m \u001b[38;5;28;01mNone\u001b[39;00m \u001b[38;5;129;01mand\u001b[39;00m \u001b[38;5;28mformat\u001b[39m \u001b[38;5;241m!=\u001b[39m \u001b[38;5;124m\"\u001b[39m\u001b[38;5;124mmixed\u001b[39m\u001b[38;5;124m\"\u001b[39m:\n\u001b[0;32m    433\u001b[0m     \u001b[38;5;28;01mreturn\u001b[39;00m _array_strptime_with_fallback(arg, name, utc, \u001b[38;5;28mformat\u001b[39m, exact, errors)\n\u001b[1;32m--> 435\u001b[0m result, tz_parsed \u001b[38;5;241m=\u001b[39m objects_to_datetime64(\n\u001b[0;32m    436\u001b[0m     arg,\n\u001b[0;32m    437\u001b[0m     dayfirst\u001b[38;5;241m=\u001b[39mdayfirst,\n\u001b[0;32m    438\u001b[0m     yearfirst\u001b[38;5;241m=\u001b[39myearfirst,\n\u001b[0;32m    439\u001b[0m     utc\u001b[38;5;241m=\u001b[39mutc,\n\u001b[0;32m    440\u001b[0m     errors\u001b[38;5;241m=\u001b[39merrors,\n\u001b[0;32m    441\u001b[0m     allow_object\u001b[38;5;241m=\u001b[39m\u001b[38;5;28;01mTrue\u001b[39;00m,\n\u001b[0;32m    442\u001b[0m )\n\u001b[0;32m    444\u001b[0m \u001b[38;5;28;01mif\u001b[39;00m tz_parsed \u001b[38;5;129;01mis\u001b[39;00m \u001b[38;5;129;01mnot\u001b[39;00m \u001b[38;5;28;01mNone\u001b[39;00m:\n\u001b[0;32m    445\u001b[0m     \u001b[38;5;66;03m# We can take a shortcut since the datetime64 numpy array\u001b[39;00m\n\u001b[0;32m    446\u001b[0m     \u001b[38;5;66;03m# is in UTC\u001b[39;00m\n\u001b[0;32m    447\u001b[0m     out_unit \u001b[38;5;241m=\u001b[39m np\u001b[38;5;241m.\u001b[39mdatetime_data(result\u001b[38;5;241m.\u001b[39mdtype)[\u001b[38;5;241m0\u001b[39m]\n",
      "File \u001b[1;32m~\\anaconda3\\Lib\\site-packages\\pandas\\core\\arrays\\datetimes.py:2398\u001b[0m, in \u001b[0;36mobjects_to_datetime64\u001b[1;34m(data, dayfirst, yearfirst, utc, errors, allow_object, out_unit)\u001b[0m\n\u001b[0;32m   2395\u001b[0m \u001b[38;5;66;03m# if str-dtype, convert\u001b[39;00m\n\u001b[0;32m   2396\u001b[0m data \u001b[38;5;241m=\u001b[39m np\u001b[38;5;241m.\u001b[39masarray(data, dtype\u001b[38;5;241m=\u001b[39mnp\u001b[38;5;241m.\u001b[39mobject_)\n\u001b[1;32m-> 2398\u001b[0m result, tz_parsed \u001b[38;5;241m=\u001b[39m tslib\u001b[38;5;241m.\u001b[39marray_to_datetime(\n\u001b[0;32m   2399\u001b[0m     data,\n\u001b[0;32m   2400\u001b[0m     errors\u001b[38;5;241m=\u001b[39merrors,\n\u001b[0;32m   2401\u001b[0m     utc\u001b[38;5;241m=\u001b[39mutc,\n\u001b[0;32m   2402\u001b[0m     dayfirst\u001b[38;5;241m=\u001b[39mdayfirst,\n\u001b[0;32m   2403\u001b[0m     yearfirst\u001b[38;5;241m=\u001b[39myearfirst,\n\u001b[0;32m   2404\u001b[0m     creso\u001b[38;5;241m=\u001b[39mabbrev_to_npy_unit(out_unit),\n\u001b[0;32m   2405\u001b[0m )\n\u001b[0;32m   2407\u001b[0m \u001b[38;5;28;01mif\u001b[39;00m tz_parsed \u001b[38;5;129;01mis\u001b[39;00m \u001b[38;5;129;01mnot\u001b[39;00m \u001b[38;5;28;01mNone\u001b[39;00m:\n\u001b[0;32m   2408\u001b[0m     \u001b[38;5;66;03m# We can take a shortcut since the datetime64 numpy array\u001b[39;00m\n\u001b[0;32m   2409\u001b[0m     \u001b[38;5;66;03m#  is in UTC\u001b[39;00m\n\u001b[0;32m   2410\u001b[0m     \u001b[38;5;28;01mreturn\u001b[39;00m result, tz_parsed\n",
      "File \u001b[1;32mtslib.pyx:414\u001b[0m, in \u001b[0;36mpandas._libs.tslib.array_to_datetime\u001b[1;34m()\u001b[0m\n",
      "File \u001b[1;32mtslib.pyx:596\u001b[0m, in \u001b[0;36mpandas._libs.tslib.array_to_datetime\u001b[1;34m()\u001b[0m\n",
      "File \u001b[1;32mtslib.pyx:553\u001b[0m, in \u001b[0;36mpandas._libs.tslib.array_to_datetime\u001b[1;34m()\u001b[0m\n",
      "File \u001b[1;32mconversion.pyx:641\u001b[0m, in \u001b[0;36mpandas._libs.tslibs.conversion.convert_str_to_tsobject\u001b[1;34m()\u001b[0m\n",
      "File \u001b[1;32mparsing.pyx:336\u001b[0m, in \u001b[0;36mpandas._libs.tslibs.parsing.parse_datetime_string\u001b[1;34m()\u001b[0m\n",
      "File \u001b[1;32mparsing.pyx:666\u001b[0m, in \u001b[0;36mpandas._libs.tslibs.parsing.dateutil_parse\u001b[1;34m()\u001b[0m\n",
      "\u001b[1;31mDateParseError\u001b[0m: Unknown datetime string format, unable to parse: Unknown, at position 30"
     ]
    }
   ],
   "source": [
    "pd.to_datetime(books_data.published_date, format = \"mixed\")"
   ]
  },
  {
   "cell_type": "code",
   "execution_count": 16,
   "id": "033bc738-10ee-4262-8216-fd32d6a529e1",
   "metadata": {},
   "outputs": [
    {
     "data": {
      "text/html": [
       "<div>\n",
       "<style scoped>\n",
       "    .dataframe tbody tr th:only-of-type {\n",
       "        vertical-align: middle;\n",
       "    }\n",
       "\n",
       "    .dataframe tbody tr th {\n",
       "        vertical-align: top;\n",
       "    }\n",
       "\n",
       "    .dataframe thead th {\n",
       "        text-align: right;\n",
       "    }\n",
       "</style>\n",
       "<table border=\"1\" class=\"dataframe\">\n",
       "  <thead>\n",
       "    <tr style=\"text-align: right;\">\n",
       "      <th></th>\n",
       "      <th>title</th>\n",
       "      <th>author</th>\n",
       "      <th>pages</th>\n",
       "      <th>genre</th>\n",
       "      <th>description</th>\n",
       "      <th>published_date</th>\n",
       "      <th>publisher</th>\n",
       "      <th>language</th>\n",
       "      <th>average_rating</th>\n",
       "      <th>ratings_count</th>\n",
       "      <th>thumbnail</th>\n",
       "    </tr>\n",
       "  </thead>\n",
       "  <tbody>\n",
       "    <tr>\n",
       "      <th>1196</th>\n",
       "      <td>Agatha Christie: The Queen of Murder Mysteries...</td>\n",
       "      <td>Daniel McGee</td>\n",
       "      <td>132.0</td>\n",
       "      <td>Biography &amp; Autobiography</td>\n",
       "      <td>A fascinating exploration of the contents of a...</td>\n",
       "      <td>101-01-01</td>\n",
       "      <td>Daniel McGee</td>\n",
       "      <td>en</td>\n",
       "      <td>No rating</td>\n",
       "      <td>0</td>\n",
       "      <td>http://books.google.com/books/content?id=gMkSE...</td>\n",
       "    </tr>\n",
       "  </tbody>\n",
       "</table>\n",
       "</div>"
      ],
      "text/plain": [
       "                                                  title        author  pages  \\\n",
       "1196  Agatha Christie: The Queen of Murder Mysteries...  Daniel McGee  132.0   \n",
       "\n",
       "                          genre  \\\n",
       "1196  Biography & Autobiography   \n",
       "\n",
       "                                            description published_date  \\\n",
       "1196  A fascinating exploration of the contents of a...      101-01-01   \n",
       "\n",
       "         publisher language average_rating  ratings_count  \\\n",
       "1196  Daniel McGee       en      No rating              0   \n",
       "\n",
       "                                              thumbnail  \n",
       "1196  http://books.google.com/books/content?id=gMkSE...  "
      ]
     },
     "execution_count": 16,
     "metadata": {},
     "output_type": "execute_result"
    }
   ],
   "source": [
    "books_data[\n",
    "    books_data.published_date.str.len() == 9\n",
    "]\n"
   ]
  },
  {
   "cell_type": "code",
   "execution_count": 24,
   "id": "f5934cca-e1b6-4991-a61c-04d64daa880a",
   "metadata": {},
   "outputs": [],
   "source": [
    "books_data = pd.read_csv(\"data/books-dataset/Books.csv\", \n",
    "                         na_values = [\"Unknown\", \"No rating\"])"
   ]
  },
  {
   "cell_type": "code",
   "execution_count": 25,
   "id": "9699bd68-4efe-46c5-bb77-0a72b3d47876",
   "metadata": {},
   "outputs": [
    {
     "data": {
      "text/html": [
       "<div>\n",
       "<style scoped>\n",
       "    .dataframe tbody tr th:only-of-type {\n",
       "        vertical-align: middle;\n",
       "    }\n",
       "\n",
       "    .dataframe tbody tr th {\n",
       "        vertical-align: top;\n",
       "    }\n",
       "\n",
       "    .dataframe thead th {\n",
       "        text-align: right;\n",
       "    }\n",
       "</style>\n",
       "<table border=\"1\" class=\"dataframe\">\n",
       "  <thead>\n",
       "    <tr style=\"text-align: right;\">\n",
       "      <th></th>\n",
       "      <th>title</th>\n",
       "      <th>author</th>\n",
       "      <th>pages</th>\n",
       "      <th>genre</th>\n",
       "      <th>description</th>\n",
       "      <th>published_date</th>\n",
       "      <th>publisher</th>\n",
       "      <th>language</th>\n",
       "      <th>average_rating</th>\n",
       "      <th>ratings_count</th>\n",
       "      <th>thumbnail</th>\n",
       "    </tr>\n",
       "  </thead>\n",
       "  <tbody>\n",
       "    <tr>\n",
       "      <th>0</th>\n",
       "      <td>Fictional Points of View</td>\n",
       "      <td>Peter Lamarque</td>\n",
       "      <td>252.0</td>\n",
       "      <td>Literary Criticism</td>\n",
       "      <td>The volume focuses on a wide range of thinkers...</td>\n",
       "      <td>1996</td>\n",
       "      <td>Cornell University Press</td>\n",
       "      <td>en</td>\n",
       "      <td>NaN</td>\n",
       "      <td>0</td>\n",
       "      <td>http://books.google.com/books/content?id=rh-om...</td>\n",
       "    </tr>\n",
       "    <tr>\n",
       "      <th>1</th>\n",
       "      <td>Science Fiction and Fantasy Literature</td>\n",
       "      <td>R. Reginald, Douglas Menville, Mary A. Burgess</td>\n",
       "      <td>802.0</td>\n",
       "      <td>Reference</td>\n",
       "      <td>Science Fiction and Fantasy Literature, A Chec...</td>\n",
       "      <td>2010-09-01</td>\n",
       "      <td>Wildside Press LLC</td>\n",
       "      <td>en</td>\n",
       "      <td>NaN</td>\n",
       "      <td>0</td>\n",
       "      <td>http://books.google.com/books/content?id=P8zW2...</td>\n",
       "    </tr>\n",
       "    <tr>\n",
       "      <th>2</th>\n",
       "      <td>Library of Congress Subject Headings</td>\n",
       "      <td>Library of Congress. Cataloging Policy and Sup...</td>\n",
       "      <td>1662.0</td>\n",
       "      <td>Subject headings, Library of Congress</td>\n",
       "      <td>No description available</td>\n",
       "      <td>2004</td>\n",
       "      <td>Unknown Publisher</td>\n",
       "      <td>en</td>\n",
       "      <td>NaN</td>\n",
       "      <td>0</td>\n",
       "      <td>http://books.google.com/books/content?id=pEhkh...</td>\n",
       "    </tr>\n",
       "    <tr>\n",
       "      <th>3</th>\n",
       "      <td>Library of Congress Subject Headings</td>\n",
       "      <td>Library of Congress</td>\n",
       "      <td>1512.0</td>\n",
       "      <td>Subject headings, Library of Congress</td>\n",
       "      <td>No description available</td>\n",
       "      <td>2007</td>\n",
       "      <td>Unknown Publisher</td>\n",
       "      <td>en</td>\n",
       "      <td>NaN</td>\n",
       "      <td>0</td>\n",
       "      <td>http://books.google.com/books/content?id=FgAjF...</td>\n",
       "    </tr>\n",
       "    <tr>\n",
       "      <th>4</th>\n",
       "      <td>Fictional Space in the Modernist and Post-mode...</td>\n",
       "      <td>Carl Darryl Malmgren</td>\n",
       "      <td>248.0</td>\n",
       "      <td>Fiction</td>\n",
       "      <td>Fictional space is the imaginal expanse of fie...</td>\n",
       "      <td>1985</td>\n",
       "      <td>Bucknell University Press</td>\n",
       "      <td>en</td>\n",
       "      <td>NaN</td>\n",
       "      <td>0</td>\n",
       "      <td>http://books.google.com/books/content?id=KXzoz...</td>\n",
       "    </tr>\n",
       "    <tr>\n",
       "      <th>...</th>\n",
       "      <td>...</td>\n",
       "      <td>...</td>\n",
       "      <td>...</td>\n",
       "      <td>...</td>\n",
       "      <td>...</td>\n",
       "      <td>...</td>\n",
       "      <td>...</td>\n",
       "      <td>...</td>\n",
       "      <td>...</td>\n",
       "      <td>...</td>\n",
       "      <td>...</td>\n",
       "    </tr>\n",
       "    <tr>\n",
       "      <th>2044</th>\n",
       "      <td>The Index Card</td>\n",
       "      <td>Helaine Olen, Harold Pollack</td>\n",
       "      <td>256.0</td>\n",
       "      <td>Personal Finance</td>\n",
       "      <td>Simplifies personal finance to ten rules that ...</td>\n",
       "      <td>2016-01-05</td>\n",
       "      <td>Portfolio</td>\n",
       "      <td>en</td>\n",
       "      <td>4.0</td>\n",
       "      <td>30000</td>\n",
       "      <td>http://books.google.com/books/content?id=8z4_D...</td>\n",
       "    </tr>\n",
       "    <tr>\n",
       "      <th>2045</th>\n",
       "      <td>The Road to Wealth</td>\n",
       "      <td>Suze Orman</td>\n",
       "      <td>608.0</td>\n",
       "      <td>Personal Finance</td>\n",
       "      <td>A comprehensive guide to managing money, inves...</td>\n",
       "      <td>2001-04-01</td>\n",
       "      <td>Riverhead Books</td>\n",
       "      <td>en</td>\n",
       "      <td>4.1</td>\n",
       "      <td>50000</td>\n",
       "      <td>http://books.google.com/books/content?id=zv0oD...</td>\n",
       "    </tr>\n",
       "    <tr>\n",
       "      <th>2046</th>\n",
       "      <td>The Success Principles</td>\n",
       "      <td>Jack Canfield</td>\n",
       "      <td>512.0</td>\n",
       "      <td>Self-Help</td>\n",
       "      <td>A guide to achieving personal and financial su...</td>\n",
       "      <td>2004-12-28</td>\n",
       "      <td>HarperCollins</td>\n",
       "      <td>en</td>\n",
       "      <td>4.2</td>\n",
       "      <td>100000</td>\n",
       "      <td>http://books.google.com/books/content?id=7zL_D...</td>\n",
       "    </tr>\n",
       "    <tr>\n",
       "      <th>2047</th>\n",
       "      <td>The Courage to Be Rich</td>\n",
       "      <td>Suze Orman</td>\n",
       "      <td>448.0</td>\n",
       "      <td>Personal Finance</td>\n",
       "      <td>Combines emotional and practical advice for bu...</td>\n",
       "      <td>1999-03-01</td>\n",
       "      <td>Riverhead Books</td>\n",
       "      <td>en</td>\n",
       "      <td>4.0</td>\n",
       "      <td>40000</td>\n",
       "      <td>http://books.google.com/books/content?id=2c3_D...</td>\n",
       "    </tr>\n",
       "    <tr>\n",
       "      <th>2048</th>\n",
       "      <td>The Money Manual</td>\n",
       "      <td>Tonya Rapley</td>\n",
       "      <td>256.0</td>\n",
       "      <td>Personal Finance</td>\n",
       "      <td>A millennial-focused guide to budgeting, savin...</td>\n",
       "      <td>2023-05-16</td>\n",
       "      <td>Adams Media</td>\n",
       "      <td>en</td>\n",
       "      <td>4.2</td>\n",
       "      <td>20000</td>\n",
       "      <td>http://books.google.com/books/content?id=3z3_D...</td>\n",
       "    </tr>\n",
       "  </tbody>\n",
       "</table>\n",
       "<p>2049 rows × 11 columns</p>\n",
       "</div>"
      ],
      "text/plain": [
       "                                                  title  \\\n",
       "0                              Fictional Points of View   \n",
       "1                Science Fiction and Fantasy Literature   \n",
       "2                  Library of Congress Subject Headings   \n",
       "3                  Library of Congress Subject Headings   \n",
       "4     Fictional Space in the Modernist and Post-mode...   \n",
       "...                                                 ...   \n",
       "2044                                     The Index Card   \n",
       "2045                                 The Road to Wealth   \n",
       "2046                             The Success Principles   \n",
       "2047                             The Courage to Be Rich   \n",
       "2048                                   The Money Manual   \n",
       "\n",
       "                                                 author   pages  \\\n",
       "0                                        Peter Lamarque   252.0   \n",
       "1        R. Reginald, Douglas Menville, Mary A. Burgess   802.0   \n",
       "2     Library of Congress. Cataloging Policy and Sup...  1662.0   \n",
       "3                                   Library of Congress  1512.0   \n",
       "4                                  Carl Darryl Malmgren   248.0   \n",
       "...                                                 ...     ...   \n",
       "2044                       Helaine Olen, Harold Pollack   256.0   \n",
       "2045                                         Suze Orman   608.0   \n",
       "2046                                      Jack Canfield   512.0   \n",
       "2047                                         Suze Orman   448.0   \n",
       "2048                                       Tonya Rapley   256.0   \n",
       "\n",
       "                                      genre  \\\n",
       "0                        Literary Criticism   \n",
       "1                                 Reference   \n",
       "2     Subject headings, Library of Congress   \n",
       "3     Subject headings, Library of Congress   \n",
       "4                                   Fiction   \n",
       "...                                     ...   \n",
       "2044                       Personal Finance   \n",
       "2045                       Personal Finance   \n",
       "2046                              Self-Help   \n",
       "2047                       Personal Finance   \n",
       "2048                       Personal Finance   \n",
       "\n",
       "                                            description published_date  \\\n",
       "0     The volume focuses on a wide range of thinkers...           1996   \n",
       "1     Science Fiction and Fantasy Literature, A Chec...     2010-09-01   \n",
       "2                              No description available           2004   \n",
       "3                              No description available           2007   \n",
       "4     Fictional space is the imaginal expanse of fie...           1985   \n",
       "...                                                 ...            ...   \n",
       "2044  Simplifies personal finance to ten rules that ...     2016-01-05   \n",
       "2045  A comprehensive guide to managing money, inves...     2001-04-01   \n",
       "2046  A guide to achieving personal and financial su...     2004-12-28   \n",
       "2047  Combines emotional and practical advice for bu...     1999-03-01   \n",
       "2048  A millennial-focused guide to budgeting, savin...     2023-05-16   \n",
       "\n",
       "                      publisher language  average_rating  ratings_count  \\\n",
       "0      Cornell University Press       en             NaN              0   \n",
       "1            Wildside Press LLC       en             NaN              0   \n",
       "2             Unknown Publisher       en             NaN              0   \n",
       "3             Unknown Publisher       en             NaN              0   \n",
       "4     Bucknell University Press       en             NaN              0   \n",
       "...                         ...      ...             ...            ...   \n",
       "2044                  Portfolio       en             4.0          30000   \n",
       "2045            Riverhead Books       en             4.1          50000   \n",
       "2046              HarperCollins       en             4.2         100000   \n",
       "2047            Riverhead Books       en             4.0          40000   \n",
       "2048                Adams Media       en             4.2          20000   \n",
       "\n",
       "                                              thumbnail  \n",
       "0     http://books.google.com/books/content?id=rh-om...  \n",
       "1     http://books.google.com/books/content?id=P8zW2...  \n",
       "2     http://books.google.com/books/content?id=pEhkh...  \n",
       "3     http://books.google.com/books/content?id=FgAjF...  \n",
       "4     http://books.google.com/books/content?id=KXzoz...  \n",
       "...                                                 ...  \n",
       "2044  http://books.google.com/books/content?id=8z4_D...  \n",
       "2045  http://books.google.com/books/content?id=zv0oD...  \n",
       "2046  http://books.google.com/books/content?id=7zL_D...  \n",
       "2047  http://books.google.com/books/content?id=2c3_D...  \n",
       "2048  http://books.google.com/books/content?id=3z3_D...  \n",
       "\n",
       "[2049 rows x 11 columns]"
      ]
     },
     "execution_count": 25,
     "metadata": {},
     "output_type": "execute_result"
    }
   ],
   "source": [
    "books_data"
   ]
  },
  {
   "cell_type": "code",
   "execution_count": 26,
   "id": "73180b2b-1c95-41cb-b874-af5a2e7a6b4f",
   "metadata": {},
   "outputs": [
    {
     "data": {
      "text/plain": [
       "0       NaN\n",
       "1       NaN\n",
       "2       NaN\n",
       "3       NaN\n",
       "4       NaN\n",
       "       ... \n",
       "2044    4.0\n",
       "2045    4.1\n",
       "2046    4.2\n",
       "2047    4.0\n",
       "2048    4.2\n",
       "Name: average_rating, Length: 2049, dtype: float64"
      ]
     },
     "execution_count": 26,
     "metadata": {},
     "output_type": "execute_result"
    }
   ],
   "source": [
    "books_data.average_rating"
   ]
  },
  {
   "cell_type": "code",
   "execution_count": 32,
   "id": "0d44b274-426d-4aa0-9b9b-06ee5cdb1dee",
   "metadata": {},
   "outputs": [
    {
     "data": {
      "text/plain": [
       "(array([15.,  0.,  0.,  6.,  0.,  3.,  0., 21.,  0., 14.,  0., 74., 27.,\n",
       "        26., 92.]),\n",
       " array([1.        , 1.26666667, 1.53333333, 1.8       , 2.06666667,\n",
       "        2.33333333, 2.6       , 2.86666667, 3.13333333, 3.4       ,\n",
       "        3.66666667, 3.93333333, 4.2       , 4.46666667, 4.73333333,\n",
       "        5.        ]),\n",
       " <BarContainer object of 15 artists>)"
      ]
     },
     "execution_count": 32,
     "metadata": {},
     "output_type": "execute_result"
    }
   ],
   "source": [
    "plt.hist(books_data.average_rating, bins = 15)"
   ]
  },
  {
   "cell_type": "code",
   "execution_count": 33,
   "id": "6fbf420d-53fd-4da6-af3d-c7d13e0a53ab",
   "metadata": {},
   "outputs": [
    {
     "data": {
      "image/png": "[encoded data removed]",
      "text/plain": [
       "<Figure size 640x480 with 1 Axes>"
      ]
     },
     "metadata": {},
     "output_type": "display_data"
    }
   ],
   "source": [
    "plt.xlabel(\"Average rating\")\n",
    "plt.ylabel(\"Count\")\n",
    "plt.show()"
   ]
  },
  {
   "cell_type": "code",
   "execution_count": 34,
   "id": "0ac92dda-bce7-4585-89d7-c908b3f87113",
   "metadata": {},
   "outputs": [
    {
     "data": {
      "text/plain": [
       "average_rating\n",
       "5.0    92\n",
       "4.0    62\n",
       "4.5    26\n",
       "3.0    21\n",
       "1.0    15\n",
       "3.5    14\n",
       "4.2    13\n",
       "4.1    12\n",
       "4.3    10\n",
       "2.0     6\n",
       "4.4     4\n",
       "2.5     3\n",
       "Name: count, dtype: int64"
      ]
     },
     "execution_count": 34,
     "metadata": {},
     "output_type": "execute_result"
    }
   ],
   "source": [
    "books_data.average_rating.value_counts()"
   ]
  },
  {
   "cell_type": "code",
   "execution_count": 35,
   "id": "0c65c399-3873-4cdf-bd22-485f1f91d556",
   "metadata": {},
   "outputs": [
    {
     "data": {
      "text/plain": [
       "0        True\n",
       "1        True\n",
       "2        True\n",
       "3        True\n",
       "4        True\n",
       "        ...  \n",
       "2044    False\n",
       "2045    False\n",
       "2046    False\n",
       "2047    False\n",
       "2048    False\n",
       "Name: average_rating, Length: 2049, dtype: bool"
      ]
     },
     "execution_count": 35,
     "metadata": {},
     "output_type": "execute_result"
    }
   ],
   "source": [
    "books_data.average_rating.isna()"
   ]
  },
  {
   "cell_type": "code",
   "execution_count": 36,
   "id": "b5fbedae-8071-4021-aac1-e254f2b5321c",
   "metadata": {},
   "outputs": [
    {
     "data": {
      "text/plain": [
       "1771"
      ]
     },
     "execution_count": 36,
     "metadata": {},
     "output_type": "execute_result"
    }
   ],
   "source": [
    "sum(books_data.average_rating.isna())"
   ]
  },
  {
   "cell_type": "code",
   "execution_count": 37,
   "id": "fb09ec49-53d1-4189-afa1-cde251c5e775",
   "metadata": {},
   "outputs": [
    {
     "data": {
      "text/plain": [
       "0.8643240605173256"
      ]
     },
     "execution_count": 37,
     "metadata": {},
     "output_type": "execute_result"
    }
   ],
   "source": [
    "sum(books_data.average_rating.isna()) / len(books_data)"
   ]
  },
  {
   "cell_type": "code",
   "execution_count": 30,
   "id": "f45ee1cb-f985-4425-83f0-9cfc537ee62f",
   "metadata": {},
   "outputs": [
    {
     "data": {
      "text/plain": [
       "<Axes: >"
      ]
     },
     "execution_count": 30,
     "metadata": {},
     "output_type": "execute_result"
    }
   ],
   "source": [
    "books_data.average_rating.hist()"
   ]
  },
  {
   "cell_type": "code",
   "execution_count": 38,
   "id": "f30a215b-82ba-4810-a7bc-2cffd27822bb",
   "metadata": {},
   "outputs": [
    {
     "data": {
      "text/plain": [
       "np.float64(-1.5865345534785174)"
      ]
     },
     "execution_count": 38,
     "metadata": {},
     "output_type": "execute_result"
    }
   ],
   "source": [
    "books_data.average_rating.skew()"
   ]
  }
 ],
 "metadata": {
  "kernelspec": {
   "display_name": "Python [conda env:base] *",
   "language": "python",
   "name": "conda-base-py"
  },
  "language_info": {
   "codemirror_mode": {
    "name": "ipython",
    "version": 3
   },
   "file_extension": ".py",
   "mimetype": "text/x-python",
   "name": "python",
   "nbconvert_exporter": "python",
   "pygments_lexer": "ipython3",
   "version": "3.13.5"
  }
 },
 "nbformat": 4,
 "nbformat_minor": 5
}
