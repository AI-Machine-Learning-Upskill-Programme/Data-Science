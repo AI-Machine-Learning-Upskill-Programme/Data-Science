{
 "cells": [
  {
   "cell_type": "code",
   "execution_count": 1,
   "id": "76031e8d-8ffa-4825-9d53-2525fe8ed3d2",
   "metadata": {},
   "outputs": [],
   "source": [
    "%matplotlib inline"
   ]
  },
  {
   "cell_type": "code",
   "execution_count": 2,
   "id": "c04862bf-e5fd-4895-81bc-66f5a80b96a5",
   "metadata": {},
   "outputs": [],
   "source": [
    "import numpy as np\n",
    "import pandas as pd\n",
    "import matplotlib.pyplot as plt"
   ]
  },
  {
   "cell_type": "code",
   "execution_count": 6,
   "id": "d1b9e9e8-c35a-4875-a77e-39eff26c2c04",
   "metadata": {},
   "outputs": [],
   "source": [
    "books_data = pd.read_csv(\"data/books-dataset/Books.csv\", \n",
    "                         na_values = [\"Unknown\", \"No rating\"],\n",
    "                         header = None, names = [\"book title, ...\"], skiprows\n",
    "                         \n",
    ")"
   ]
  },
  {
   "cell_type": "code",
   "execution_count": 7,
   "id": "561aca39-2802-4ac5-8038-d1aa2f3f9d08",
   "metadata": {},
   "outputs": [
    {
     "data": {
      "text/plain": [
       "Index(['title', 'author', 'pages', 'genre', 'description', 'published_date',\n",
       "       'publisher', 'language', 'average_rating', 'ratings_count',\n",
       "       'thumbnail'],\n",
       "      dtype='object')"
      ]
     },
     "execution_count": 7,
     "metadata": {},
     "output_type": "execute_result"
    }
   ],
   "source": [
    "books_data.columns"
   ]
  },
  {
   "cell_type": "code",
   "execution_count": null,
   "id": "ec0186ae-17b7-4a00-a8e9-86818be94a8c",
   "metadata": {},
   "outputs": [],
   "source": [
    "pd.read_excel(sheet_name = None)"
   ]
  }
 ],
 "metadata": {
  "kernelspec": {
   "display_name": "Python [conda env:base] *",
   "language": "python",
   "name": "conda-base-py"
  },
  "language_info": {
   "codemirror_mode": {
    "name": "ipython",
    "version": 3
   },
   "file_extension": ".py",
   "mimetype": "text/x-python",
   "name": "python",
   "nbconvert_exporter": "python",
   "pygments_lexer": "ipython3",
   "version": "3.13.5"
  }
 },
 "nbformat": 4,
 "nbformat_minor": 5
}
